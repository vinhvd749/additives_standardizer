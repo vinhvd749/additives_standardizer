{
 "cells": [
  {
   "cell_type": "code",
   "execution_count": 194,
   "metadata": {},
   "outputs": [],
   "source": [
    "import pandas as pd"
   ]
  },
  {
   "cell_type": "code",
   "execution_count": 195,
   "metadata": {},
   "outputs": [],
   "source": [
    "# nutri_df = pd.read_csv('tmp/nutri_list.csv')\n",
    "nutri_list_df = pd.read_csv('data/nutri_list_raw_edited.csv')"
   ]
  },
  {
   "cell_type": "code",
   "execution_count": 196,
   "metadata": {},
   "outputs": [
    {
     "data": {
      "text/html": [
       "<div>\n",
       "<style scoped>\n",
       "    .dataframe tbody tr th:only-of-type {\n",
       "        vertical-align: middle;\n",
       "    }\n",
       "\n",
       "    .dataframe tbody tr th {\n",
       "        vertical-align: top;\n",
       "    }\n",
       "\n",
       "    .dataframe thead th {\n",
       "        text-align: right;\n",
       "    }\n",
       "</style>\n",
       "<table border=\"1\" class=\"dataframe\">\n",
       "  <thead>\n",
       "    <tr style=\"text-align: right;\">\n",
       "      <th></th>\n",
       "      <th>nutri_name</th>\n",
       "    </tr>\n",
       "  </thead>\n",
       "  <tbody>\n",
       "    <tr>\n",
       "      <th>0</th>\n",
       "      <td>cystine</td>\n",
       "    </tr>\n",
       "    <tr>\n",
       "      <th>1</th>\n",
       "      <td>vitamin b12</td>\n",
       "    </tr>\n",
       "    <tr>\n",
       "      <th>2</th>\n",
       "      <td>ash</td>\n",
       "    </tr>\n",
       "    <tr>\n",
       "      <th>3</th>\n",
       "      <td>phosphorus</td>\n",
       "    </tr>\n",
       "    <tr>\n",
       "      <th>4</th>\n",
       "      <td>lactoferrin</td>\n",
       "    </tr>\n",
       "    <tr>\n",
       "      <th>...</th>\n",
       "      <td>...</td>\n",
       "    </tr>\n",
       "    <tr>\n",
       "      <th>177</th>\n",
       "      <td>taurin</td>\n",
       "    </tr>\n",
       "    <tr>\n",
       "      <th>178</th>\n",
       "      <td>epa</td>\n",
       "    </tr>\n",
       "    <tr>\n",
       "      <th>179</th>\n",
       "      <td>otpp</td>\n",
       "    </tr>\n",
       "    <tr>\n",
       "      <th>180</th>\n",
       "      <td>soluble dietary fiber</td>\n",
       "    </tr>\n",
       "    <tr>\n",
       "      <th>181</th>\n",
       "      <td>axit sialic</td>\n",
       "    </tr>\n",
       "  </tbody>\n",
       "</table>\n",
       "<p>182 rows × 1 columns</p>\n",
       "</div>"
      ],
      "text/plain": [
       "                nutri_name\n",
       "0                  cystine\n",
       "1              vitamin b12\n",
       "2                      ash\n",
       "3               phosphorus\n",
       "4              lactoferrin\n",
       "..                     ...\n",
       "177                 taurin\n",
       "178                    epa\n",
       "179                   otpp\n",
       "180  soluble dietary fiber\n",
       "181            axit sialic\n",
       "\n",
       "[182 rows x 1 columns]"
      ]
     },
     "execution_count": 196,
     "metadata": {},
     "output_type": "execute_result"
    }
   ],
   "source": [
    "nutri_list_df"
   ]
  },
  {
   "cell_type": "code",
   "execution_count": 197,
   "metadata": {},
   "outputs": [],
   "source": [
    "nutri_df = nutri_list_df"
   ]
  },
  {
   "cell_type": "code",
   "execution_count": 198,
   "metadata": {},
   "outputs": [],
   "source": [
    "import re\n",
    "def preprocess_term(term):\n",
    "    term = term.replace('total', ' ')\n",
    "    term = term.strip()\n",
    "\n",
    "    term = term.replace('of which', ' ')\n",
    "    term = term.strip()\n",
    "\n",
    "    term = term.replace(',', ';')\n",
    "    term = term.replace('(', ';').replace(')', ';').lower()\n",
    "    term = term.strip(\";\").strip()\n",
    "    term = re.sub(r'vitamin (\\w\\w?\\w?)', 'vitamin \\\\1 ; \\\\1 ;', term)\n",
    "    term = term.strip(\";\").strip()\n",
    "    return term"
   ]
  },
  {
   "cell_type": "code",
   "execution_count": 199,
   "metadata": {},
   "outputs": [],
   "source": [
    "nutri_df['preprocessed_term'] = nutri_df['nutri_name'].apply(preprocess_term)"
   ]
  },
  {
   "cell_type": "code",
   "execution_count": 200,
   "metadata": {},
   "outputs": [
    {
     "data": {
      "text/html": [
       "<div>\n",
       "<style scoped>\n",
       "    .dataframe tbody tr th:only-of-type {\n",
       "        vertical-align: middle;\n",
       "    }\n",
       "\n",
       "    .dataframe tbody tr th {\n",
       "        vertical-align: top;\n",
       "    }\n",
       "\n",
       "    .dataframe thead th {\n",
       "        text-align: right;\n",
       "    }\n",
       "</style>\n",
       "<table border=\"1\" class=\"dataframe\">\n",
       "  <thead>\n",
       "    <tr style=\"text-align: right;\">\n",
       "      <th></th>\n",
       "      <th>nutri_name</th>\n",
       "      <th>preprocessed_term</th>\n",
       "    </tr>\n",
       "  </thead>\n",
       "  <tbody>\n",
       "    <tr>\n",
       "      <th>0</th>\n",
       "      <td>cystine</td>\n",
       "      <td>cystine</td>\n",
       "    </tr>\n",
       "    <tr>\n",
       "      <th>1</th>\n",
       "      <td>vitamin b12</td>\n",
       "      <td>vitamin b12 ; b12</td>\n",
       "    </tr>\n",
       "    <tr>\n",
       "      <th>2</th>\n",
       "      <td>ash</td>\n",
       "      <td>ash</td>\n",
       "    </tr>\n",
       "    <tr>\n",
       "      <th>3</th>\n",
       "      <td>phosphorus</td>\n",
       "      <td>phosphorus</td>\n",
       "    </tr>\n",
       "    <tr>\n",
       "      <th>4</th>\n",
       "      <td>lactoferrin</td>\n",
       "      <td>lactoferrin</td>\n",
       "    </tr>\n",
       "    <tr>\n",
       "      <th>...</th>\n",
       "      <td>...</td>\n",
       "      <td>...</td>\n",
       "    </tr>\n",
       "    <tr>\n",
       "      <th>177</th>\n",
       "      <td>taurin</td>\n",
       "      <td>taurin</td>\n",
       "    </tr>\n",
       "    <tr>\n",
       "      <th>178</th>\n",
       "      <td>epa</td>\n",
       "      <td>epa</td>\n",
       "    </tr>\n",
       "    <tr>\n",
       "      <th>179</th>\n",
       "      <td>otpp</td>\n",
       "      <td>otpp</td>\n",
       "    </tr>\n",
       "    <tr>\n",
       "      <th>180</th>\n",
       "      <td>soluble dietary fiber</td>\n",
       "      <td>soluble dietary fiber</td>\n",
       "    </tr>\n",
       "    <tr>\n",
       "      <th>181</th>\n",
       "      <td>axit sialic</td>\n",
       "      <td>axit sialic</td>\n",
       "    </tr>\n",
       "  </tbody>\n",
       "</table>\n",
       "<p>182 rows × 2 columns</p>\n",
       "</div>"
      ],
      "text/plain": [
       "                nutri_name      preprocessed_term\n",
       "0                  cystine                cystine\n",
       "1              vitamin b12      vitamin b12 ; b12\n",
       "2                      ash                    ash\n",
       "3               phosphorus             phosphorus\n",
       "4              lactoferrin            lactoferrin\n",
       "..                     ...                    ...\n",
       "177                 taurin                 taurin\n",
       "178                    epa                    epa\n",
       "179                   otpp                   otpp\n",
       "180  soluble dietary fiber  soluble dietary fiber\n",
       "181            axit sialic            axit sialic\n",
       "\n",
       "[182 rows x 2 columns]"
      ]
     },
     "execution_count": 200,
     "metadata": {},
     "output_type": "execute_result"
    }
   ],
   "source": [
    "nutri_df"
   ]
  },
  {
   "cell_type": "code",
   "execution_count": 201,
   "metadata": {},
   "outputs": [],
   "source": [
    "term_list = nutri_df['preprocessed_term'].tolist()"
   ]
  },
  {
   "cell_type": "code",
   "execution_count": 202,
   "metadata": {},
   "outputs": [],
   "source": [
    "term_list = [i for i in term_list if i != '']\n",
    "term_list = list(set(term_list))"
   ]
  },
  {
   "cell_type": "code",
   "execution_count": 203,
   "metadata": {},
   "outputs": [
    {
     "data": {
      "text/plain": [
       "172"
      ]
     },
     "execution_count": 203,
     "metadata": {},
     "output_type": "execute_result"
    }
   ],
   "source": [
    "len(term_list)"
   ]
  },
  {
   "cell_type": "code",
   "execution_count": 204,
   "metadata": {},
   "outputs": [],
   "source": [
    "from elasticsearch import Elasticsearch\n",
    "from elasticsearch import helpers"
   ]
  },
  {
   "cell_type": "code",
   "execution_count": 205,
   "metadata": {},
   "outputs": [
    {
     "name": "stdout",
     "output_type": "stream",
     "text": [
      "{'name': 'VINHVAN-ITC-AI', 'cluster_name': 'elasticsearch', 'cluster_uuid': 'nGpADS-xR_2jfOXdEXGYXw', 'version': {'number': '8.4.2', 'build_flavor': 'default', 'build_type': 'tar', 'build_hash': '89f8c6d8429db93b816403ee75e5c270b43a940a', 'build_date': '2022-09-14T16:26:04.382547801Z', 'build_snapshot': False, 'lucene_version': '9.3.0', 'minimum_wire_compatibility_version': '7.17.0', 'minimum_index_compatibility_version': '7.0.0'}, 'tagline': 'You Know, for Search'}\n"
     ]
    }
   ],
   "source": [
    "password='FtxkVZYOjZBdsLqbryvc'\n",
    "ca_certs_dir='/home/vinhvan/elasticsearch-8.4.2/config/certs/http_ca.crt'\n",
    "es = Elasticsearch(\n",
    "            \"https://localhost:9200\",\n",
    "            ca_certs=ca_certs_dir,\n",
    "            basic_auth=(\"elastic\", password),\n",
    "            request_timeout=60\n",
    "        )\n",
    "print(es.info())"
   ]
  },
  {
   "cell_type": "code",
   "execution_count": 239,
   "metadata": {},
   "outputs": [
    {
     "data": {
      "text/plain": [
       "ObjectApiResponse({'acknowledged': True, 'shards_acknowledged': True, 'index': 'nutri_parse_1'})"
      ]
     },
     "execution_count": 239,
     "metadata": {},
     "output_type": "execute_result"
    }
   ],
   "source": [
    "index_name = 'nutri_parse_1'\n",
    "\n",
    "es.options(ignore_status=[400,404]).indices.delete(index=index_name)\n",
    "\n",
    "# create mapping\n",
    "setting = {\n",
    "            \"similarity\": {\n",
    "                \"scripted_tfidf\": {\n",
    "                    \"type\": \"scripted\",\n",
    "                    \"script\": {\n",
    "                        # \"source\": \"double tf = Math.sqrt(doc.freq); double idf = Math.log((field.docCount+1.0)/(term.docFreq+1.0)) + 1.0; double norm = 1/Math.sqrt(doc.length); return query.boost * tf * idf * norm;\"\n",
    "                        # this tf idf score remove idf\n",
    "                        \"source\": \"double tf = Math.sqrt(doc.freq); double idf =  1.0; double norm = 1/Math.sqrt(doc.length + 1); return query.boost * tf * idf * norm;\"\n",
    "                    }\n",
    "                },\n",
    "                \"custom_bm25\": {\n",
    "                    \"type\": \"BM25\",\n",
    "                    \"b\": 0.65,\n",
    "                    \"k1\": 1.2\n",
    "                }\n",
    "\n",
    "            },\n",
    "            \"analysis\": {\n",
    "                \"analyzer\": {\n",
    "                    \"my_standard_shingle_no_unique\": {\n",
    "                        \"tokenizer\": \"standard\",\n",
    "                        \"filter\": [\"lowercase\", \"my_shingle_filter\"]\n",
    "                    }\n",
    "                },\n",
    "                \"filter\": {\n",
    "                    \"my_shingle_filter\": {\n",
    "                        \"type\": \"shingle\",\n",
    "                        \"min_shingle_size\": 2,\n",
    "                        \"max_shingle_size\": 2,\n",
    "                        \"output_unigrams\": True\n",
    "                    }\n",
    "                }\n",
    "            }\n",
    "        }\n",
    "\n",
    "mapping = {\n",
    "    \"properties\": {\n",
    "        \"full_name_no_unique\": {\n",
    "            \"type\": \"text\",\n",
    "            \"index_phrases\": True,\n",
    "            \"store\": True,\n",
    "            \"analyzer\": \"my_standard_shingle_no_unique\",\n",
    "            # \"similarity\": \"custom_bm25\"\n",
    "        },\n",
    "        \"presentative_name\": {\n",
    "            \"type\": \"keyword\",\n",
    "            \"index\": False,\n",
    "            \"store\": True\n",
    "        }\n",
    "    }\n",
    "}\n",
    "\n",
    "es.indices.create(index=index_name, mappings=mapping, settings=setting)"
   ]
  },
  {
   "cell_type": "code",
   "execution_count": 240,
   "metadata": {},
   "outputs": [],
   "source": [
    "sep_string = ' cq3rq3asd '\n",
    "def preprocess_for_search(term):\n",
    "    toks = term.split(';')\n",
    "    toks = [i.strip() for i in toks if i.strip() != '']\n",
    "    # sort toks by length desc\n",
    "    toks = sorted(toks, key=lambda x: len(x), reverse=True)\n",
    "    term = sep_string.join(toks)\n",
    "    term = sep_string + term + sep_string\n",
    "    return term\n"
   ]
  },
  {
   "cell_type": "code",
   "execution_count": 241,
   "metadata": {},
   "outputs": [],
   "source": [
    "data = [preprocess_for_search(term) for term in term_list]"
   ]
  },
  {
   "cell_type": "code",
   "execution_count": 242,
   "metadata": {},
   "outputs": [
    {
     "data": {
      "text/plain": [
       "[' cq3rq3asd crom cq3rq3asd ',\n",
       " ' cq3rq3asd vitamin b1 cq3rq3asd thiamin cq3rq3asd b1 cq3rq3asd ',\n",
       " ' cq3rq3asd nh3 cq3rq3asd ',\n",
       " ' cq3rq3asd caffeine cq3rq3asd ',\n",
       " ' cq3rq3asd molybdenum cq3rq3asd mo cq3rq3asd ',\n",
       " ' cq3rq3asd ara cq3rq3asd ',\n",
       " ' cq3rq3asd l carnitine cq3rq3asd ',\n",
       " ' cq3rq3asd lutein cq3rq3asd ',\n",
       " ' cq3rq3asd protid cq3rq3asd ',\n",
       " ' cq3rq3asd added sugar cq3rq3asd ',\n",
       " ' cq3rq3asd dietary fiber cq3rq3asd ',\n",
       " ' cq3rq3asd vitamin b3 cq3rq3asd b3 cq3rq3asd ',\n",
       " ' cq3rq3asd monounsaturated fat cq3rq3asd ',\n",
       " ' cq3rq3asd unsaturated fat cq3rq3asd ',\n",
       " ' cq3rq3asd beta caroten cq3rq3asd ',\n",
       " ' cq3rq3asd vitamin pp cq3rq3asd pp cq3rq3asd ',\n",
       " ' cq3rq3asd no2 cq3rq3asd ',\n",
       " ' cq3rq3asd calcium cq3rq3asd ca cq3rq3asd ',\n",
       " ' cq3rq3asd phospho cq3rq3asd ',\n",
       " ' cq3rq3asd cholin cq3rq3asd ',\n",
       " ' cq3rq3asd nucleotid cq3rq3asd ',\n",
       " ' cq3rq3asd riboflavin cq3rq3asd vitamin b2 cq3rq3asd b2 cq3rq3asd ',\n",
       " ' cq3rq3asd pufa cq3rq3asd ',\n",
       " ' cq3rq3asd soluble dietary fiber cq3rq3asd ',\n",
       " ' cq3rq3asd salt cq3rq3asd ',\n",
       " ' cq3rq3asd bicarbonate hco3 cq3rq3asd ',\n",
       " ' cq3rq3asd selen cq3rq3asd ',\n",
       " ' cq3rq3asd vitamin b12 cq3rq3asd b12 cq3rq3asd ',\n",
       " ' cq3rq3asd hydroxyproline cq3rq3asd ',\n",
       " ' cq3rq3asd nickel cq3rq3asd ni cq3rq3asd ',\n",
       " ' cq3rq3asd lysine cq3rq3asd ',\n",
       " ' cq3rq3asd tryptophan cq3rq3asd ',\n",
       " ' cq3rq3asd serine cq3rq3asd ',\n",
       " ' cq3rq3asd calci cq3rq3asd ',\n",
       " ' cq3rq3asd sodium cq3rq3asd na cq3rq3asd ',\n",
       " ' cq3rq3asd omega 3 cq3rq3asd ',\n",
       " ' cq3rq3asd ash cq3rq3asd ',\n",
       " ' cq3rq3asd oligofructose fos cq3rq3asd ',\n",
       " ' cq3rq3asd raffinose cq3rq3asd ',\n",
       " ' cq3rq3asd egcg cq3rq3asd ',\n",
       " ' cq3rq3asd carbohydrates cq3rq3asd ',\n",
       " ' cq3rq3asd copper cq3rq3asd cu cq3rq3asd ',\n",
       " ' cq3rq3asd kali cq3rq3asd ',\n",
       " ' cq3rq3asd alpha-tocopherol cq3rq3asd vitamin e cq3rq3asd e cq3rq3asd ',\n",
       " ' cq3rq3asd litpit cq3rq3asd ',\n",
       " ' cq3rq3asd fat cq3rq3asd ',\n",
       " ' cq3rq3asd nicotinic acid cq3rq3asd vitamin b3 cq3rq3asd niacin cq3rq3asd b3 cq3rq3asd ',\n",
       " ' cq3rq3asd saturated fat cq3rq3asd ',\n",
       " ' cq3rq3asd 2 fucosyllactose 2 fl cq3rq3asd ',\n",
       " ' cq3rq3asd calciferol cq3rq3asd vitamin d cq3rq3asd d cq3rq3asd ',\n",
       " ' cq3rq3asd magnesium cq3rq3asd ',\n",
       " ' cq3rq3asd nts cq3rq3asd ',\n",
       " ' cq3rq3asd zinc cq3rq3asd zn cq3rq3asd ',\n",
       " ' cq3rq3asd lactoferrin cq3rq3asd ',\n",
       " ' cq3rq3asd carnitin cq3rq3asd ',\n",
       " ' cq3rq3asd phytosterol cq3rq3asd ',\n",
       " ' cq3rq3asd omega cq3rq3asd ',\n",
       " ' cq3rq3asd sodium 1 cq3rq3asd ',\n",
       " ' cq3rq3asd carbohydrate cq3rq3asd ',\n",
       " ' cq3rq3asd taurin cq3rq3asd ',\n",
       " ' cq3rq3asd lipid cq3rq3asd ',\n",
       " ' cq3rq3asd inositol cq3rq3asd ',\n",
       " ' cq3rq3asd pantothenic acid cq3rq3asd vitamin b5 cq3rq3asd b5 cq3rq3asd ',\n",
       " ' cq3rq3asd carb cq3rq3asd ',\n",
       " ' cq3rq3asd protein cq3rq3asd ',\n",
       " ' cq3rq3asd proteins cq3rq3asd ',\n",
       " ' cq3rq3asd acid folic cq3rq3asd ',\n",
       " ' cq3rq3asd epa cq3rq3asd ',\n",
       " ' cq3rq3asd dha cq3rq3asd ',\n",
       " ' cq3rq3asd 2 fl hmo cq3rq3asd ',\n",
       " ' cq3rq3asd beta glucan cq3rq3asd ',\n",
       " ' cq3rq3asd lactose cq3rq3asd ',\n",
       " ' cq3rq3asd bb cq3rq3asd ',\n",
       " ' cq3rq3asd fufa cq3rq3asd ',\n",
       " ' cq3rq3asd saturates cq3rq3asd ',\n",
       " ' cq3rq3asd folic acid cq3rq3asd vitamin b9 cq3rq3asd folate cq3rq3asd b9 cq3rq3asd ',\n",
       " ' cq3rq3asd bifidobacterium cq3rq3asd ',\n",
       " ' cq3rq3asd theanin cq3rq3asd ',\n",
       " ' cq3rq3asd phylloquinone cq3rq3asd vitamin k cq3rq3asd menadione cq3rq3asd k cq3rq3asd ',\n",
       " ' cq3rq3asd tea polyphenol cq3rq3asd ',\n",
       " ' cq3rq3asd mangan cq3rq3asd ',\n",
       " ' cq3rq3asd citrate cq3rq3asd ',\n",
       " ' cq3rq3asd clorid cq3rq3asd ',\n",
       " ' cq3rq3asd vitamin d3 cq3rq3asd d3 cq3rq3asd ',\n",
       " ' cq3rq3asd fos cq3rq3asd ',\n",
       " ' cq3rq3asd beta carotene cq3rq3asd ',\n",
       " ' cq3rq3asd potassium cq3rq3asd k cq3rq3asd ',\n",
       " ' cq3rq3asd tds cq3rq3asd ',\n",
       " ' cq3rq3asd chloride cq3rq3asd ',\n",
       " ' cq3rq3asd omega 6 fatty acids cq3rq3asd ',\n",
       " ' cq3rq3asd natri cq3rq3asd ',\n",
       " ' cq3rq3asd magnesi cq3rq3asd ',\n",
       " ' cq3rq3asd ntp cq3rq3asd ',\n",
       " ' cq3rq3asd cholline cq3rq3asd ',\n",
       " ' cq3rq3asd igg cq3rq3asd ',\n",
       " ' cq3rq3asd ara arachidonic acid cq3rq3asd ',\n",
       " ' cq3rq3asd selenium cq3rq3asd se cq3rq3asd ',\n",
       " ' cq3rq3asd unpolyunsaturated fat cq3rq3asd ',\n",
       " ' cq3rq3asd iot cq3rq3asd ',\n",
       " ' cq3rq3asd mct cq3rq3asd ',\n",
       " ' cq3rq3asd no3 cq3rq3asd ',\n",
       " ' cq3rq3asd alpha lactalbumin cq3rq3asd ',\n",
       " ' cq3rq3asd moisture cq3rq3asd ',\n",
       " ' cq3rq3asd saturated cq3rq3asd ',\n",
       " ' cq3rq3asd pdx cq3rq3asd ',\n",
       " ' cq3rq3asd energy from fat cq3rq3asd ',\n",
       " ' cq3rq3asd chlorine cq3rq3asd cl cq3rq3asd ',\n",
       " ' cq3rq3asd vitamin k2 cq3rq3asd k2 cq3rq3asd ',\n",
       " ' cq3rq3asd fluoride cq3rq3asd ',\n",
       " ' cq3rq3asd energie cq3rq3asd ',\n",
       " ' cq3rq3asd dietary fibre cq3rq3asd ',\n",
       " ' cq3rq3asd α te cq3rq3asd ',\n",
       " ' cq3rq3asd trans fat cq3rq3asd ',\n",
       " ' cq3rq3asd follic acid cq3rq3asd ',\n",
       " ' cq3rq3asd cholesterol cq3rq3asd ',\n",
       " ' cq3rq3asd lactate cq3rq3asd ',\n",
       " ' cq3rq3asd peroxit cq3rq3asd ',\n",
       " ' cq3rq3asd bifidus bl cq3rq3asd ',\n",
       " ' cq3rq3asd axit lauric cq3rq3asd ',\n",
       " ' cq3rq3asd isomalt cq3rq3asd ',\n",
       " ' cq3rq3asd vitamin c cq3rq3asd c cq3rq3asd ',\n",
       " ' cq3rq3asd iodine cq3rq3asd i cq3rq3asd ',\n",
       " ' cq3rq3asd so2 cq3rq3asd ',\n",
       " ' cq3rq3asd phosphorus cq3rq3asd ',\n",
       " ' cq3rq3asd acid pantothenic cq3rq3asd ',\n",
       " ' cq3rq3asd lactoza cq3rq3asd ',\n",
       " ' cq3rq3asd acid amin cq3rq3asd ',\n",
       " ' cq3rq3asd gamma oryzanol cq3rq3asd ',\n",
       " ' cq3rq3asd pyridoxamine cq3rq3asd vitamin b6 cq3rq3asd pyridoxine cq3rq3asd pyridoxal cq3rq3asd b6 cq3rq3asd ',\n",
       " ' cq3rq3asd vitamin k1 cq3rq3asd k1 cq3rq3asd ',\n",
       " ' cq3rq3asd collagen cq3rq3asd ',\n",
       " ' cq3rq3asd omega 9 fatty acids cq3rq3asd ',\n",
       " ' cq3rq3asd sorbitol cq3rq3asd ',\n",
       " ' cq3rq3asd manganese cq3rq3asd mn cq3rq3asd ',\n",
       " ' cq3rq3asd nicotinamide cq3rq3asd ',\n",
       " ' cq3rq3asd energy cq3rq3asd ',\n",
       " ' cq3rq3asd omega 3 fatty acids cq3rq3asd ',\n",
       " ' cq3rq3asd otpp cq3rq3asd ',\n",
       " ' cq3rq3asd mufa cq3rq3asd ',\n",
       " ' cq3rq3asd cystine cq3rq3asd ',\n",
       " ' cq3rq3asd taurine cq3rq3asd ',\n",
       " ' cq3rq3asd fluorid cq3rq3asd ',\n",
       " ' cq3rq3asd chromium cq3rq3asd cr cq3rq3asd ',\n",
       " ' cq3rq3asd acid alpha linolenic cq3rq3asd ',\n",
       " ' cq3rq3asd vitamin b7 cq3rq3asd biotin cq3rq3asd b7 cq3rq3asd ',\n",
       " ' cq3rq3asd l carnitin cq3rq3asd ',\n",
       " ' cq3rq3asd saturates fat cq3rq3asd ',\n",
       " ' cq3rq3asd vitamin b8 cq3rq3asd b8 cq3rq3asd ',\n",
       " ' cq3rq3asd fibre cq3rq3asd ',\n",
       " ' cq3rq3asd lysin cq3rq3asd ',\n",
       " ' cq3rq3asd molybden cq3rq3asd ',\n",
       " ' cq3rq3asd axit pantothenic cq3rq3asd ',\n",
       " ' cq3rq3asd beta-carotene cq3rq3asd vitamin a cq3rq3asd retinol cq3rq3asd a cq3rq3asd ',\n",
       " ' cq3rq3asd polyphenol cq3rq3asd ',\n",
       " ' cq3rq3asd polyunsaturated fat cq3rq3asd ',\n",
       " ' cq3rq3asd h2sio3 cq3rq3asd ',\n",
       " ' cq3rq3asd rhenium cq3rq3asd re cq3rq3asd ',\n",
       " ' cq3rq3asd dha docosahexaenoic acid cq3rq3asd ',\n",
       " ' cq3rq3asd choline cq3rq3asd ',\n",
       " ' cq3rq3asd fiber cq3rq3asd ',\n",
       " ' cq3rq3asd axit sialic cq3rq3asd ',\n",
       " ' cq3rq3asd acid alpha linoleic cq3rq3asd ',\n",
       " ' cq3rq3asd axit oleic cq3rq3asd ',\n",
       " ' cq3rq3asd iron cq3rq3asd fe cq3rq3asd ',\n",
       " ' cq3rq3asd fibres cq3rq3asd ',\n",
       " ' cq3rq3asd sugars cq3rq3asd ',\n",
       " ' cq3rq3asd unmonounsaturated fat cq3rq3asd ',\n",
       " ' cq3rq3asd acid linoleic cq3rq3asd ',\n",
       " ' cq3rq3asd crude fiber cq3rq3asd ',\n",
       " ' cq3rq3asd gos cq3rq3asd ',\n",
       " ' cq3rq3asd lodide u cq3rq3asd ',\n",
       " ' cq3rq3asd lactulose cq3rq3asd ']"
      ]
     },
     "execution_count": 242,
     "metadata": {},
     "output_type": "execute_result"
    }
   ],
   "source": [
    "data"
   ]
  },
  {
   "cell_type": "code",
   "execution_count": 243,
   "metadata": {},
   "outputs": [],
   "source": [
    "presentative_name_list = nutri_df['nutri_name'].tolist()"
   ]
  },
  {
   "cell_type": "code",
   "execution_count": 244,
   "metadata": {},
   "outputs": [
    {
     "data": {
      "text/plain": [
       "'acid linoleic'"
      ]
     },
     "execution_count": 244,
     "metadata": {},
     "output_type": "execute_result"
    }
   ],
   "source": [
    "[term for term in' cq3rq3asd acid linoleic cq3rq3asd '.split(sep_string) if term != ''][0]"
   ]
  },
  {
   "cell_type": "code",
   "execution_count": 245,
   "metadata": {},
   "outputs": [
    {
     "name": "stdout",
     "output_type": "stream",
     "text": [
      "DATA SIZE:  172\n",
      "{'count': 172, '_shards': {'total': 1, 'successful': 1, 'skipped': 0, 'failed': 0}}\n"
     ]
    }
   ],
   "source": [
    "# index into es db\n",
    "import time\n",
    "\n",
    "# assert len(data) == len(presentative_name_list)\n",
    "\n",
    "for k in range(0, len(data), 1000):\n",
    "    # print(i)\n",
    "    # print(len(raw_dict_terms))\n",
    "    # print(data[i:i+1000])\n",
    "    actions = [\n",
    "        {\n",
    "            \"_index\": index_name,\n",
    "            \"_source\": {\n",
    "                \"full_name_no_unique\": i,\n",
    "                \"presentative_name\": [term for term in i.split(sep_string) if term != ''][0].strip()\n",
    "            }\n",
    "        }\n",
    "        for i in data[k:k+1000]\n",
    "    ]\n",
    "    helpers.bulk(es, actions)\n",
    "\n",
    "print(\"DATA SIZE: \", len(data))\n",
    "time.sleep(2)\n",
    "resp = es.count(index=index_name, query={\"match_all\": {}})\n",
    "print(resp) "
   ]
  },
  {
   "cell_type": "code",
   "execution_count": 246,
   "metadata": {},
   "outputs": [],
   "source": [
    "def get_word(text):\n",
    "    return re.findall(string=text, pattern=r'[\\w\\d]+', flags=re.MULTILINE | re.IGNORECASE | re.UNICODE)\n",
    "\n",
    "\n",
    "def preprocess_query(text):\n",
    "    text = text.lower()\n",
    "    text = \" \".join(get_word(text))\n",
    "    text = sep_string + text + sep_string\n",
    "    return text\n",
    "\n",
    "\n",
    "def get_match_term_query(raw_term, rank_list_size=10):\n",
    "    j = {\n",
    "        # \"explain\": True,\n",
    "        \"query\": {\n",
    "            \"bool\": {\n",
    "                \"should\": [\n",
    "                    {\"match\": {\"full_name_no_unique\": {\"query\": raw_term, \"boost\": 1}}},\n",
    "                ],\n",
    "                \"minimum_should_match\": 1\n",
    "            }\n",
    "        },\n",
    "        \"_source\": {\"includes\": [\"full_name_no_unique\", \"presentative_name\"]},\n",
    "        'from': 0,\n",
    "        'size': rank_list_size\n",
    "    }\n",
    "\n",
    "    return j\n",
    "\n",
    "\n",
    "def check_term_contain(term, text):\n",
    "    def add_sep(toks):\n",
    "        sep_string = \"|||\"\n",
    "        return sep_string + sep_string.join(toks) + sep_string\n",
    "    \n",
    "    # respect word order\n",
    "    # text_toks = add_sep(get_word(text))\n",
    "    # term_toks = add_sep(get_word(term))\n",
    "    # if term_toks in text_toks:\n",
    "    #     return True\n",
    "    # return False\n",
    "\n",
    "    # disregard word order\n",
    "    text_toks = set(get_word(text))\n",
    "    term_toks = set(get_word(term))\n",
    "    if term_toks.issubset(text_toks):\n",
    "        return True\n",
    "    return False\n",
    "\n",
    "\n",
    "def search_term(text):\n",
    "    text = preprocess_query(text)\n",
    "    # print(\"preprocessed query: \", text)\n",
    "    query = get_match_term_query(text)\n",
    "    resp = es.search(index=index_name, body=query)\n",
    "    ret = list()\n",
    "    for  h in resp['hits']['hits']:\n",
    "        if h['_score'] < 1.8:\n",
    "            continue\n",
    "\n",
    "        terms = h['_source']['full_name_no_unique'].replace(sep_string, ';').strip().strip(';').strip().split(';')\n",
    "        keep = False\n",
    "        found_term = None\n",
    "        for term in terms:\n",
    "            term = term.strip()\n",
    "            if check_term_contain(term, text):\n",
    "                found_term = term\n",
    "                keep = True\n",
    "                break\n",
    "\n",
    "        if not keep:\n",
    "            continue\n",
    "\n",
    "        d = {\n",
    "            'term': found_term,\n",
    "            'presentative_name': h['_source']['presentative_name']\n",
    "        }\n",
    "        ret.append(d)\n",
    "    return ret"
   ]
  },
  {
   "cell_type": "code",
   "execution_count": 247,
   "metadata": {},
   "outputs": [
    {
     "data": {
      "text/plain": [
       "False"
      ]
     },
     "execution_count": 247,
     "metadata": {},
     "output_type": "execute_result"
    }
   ],
   "source": [
    "check_term_contain('5 kcal', 'energy,55 kcal,sodium,0.01 g,carbohydrate,14 g,total sugars,14 g,vitamin C,41 mg')"
   ]
  },
  {
   "cell_type": "code",
   "execution_count": 248,
   "metadata": {},
   "outputs": [
    {
     "name": "stderr",
     "output_type": "stream",
     "text": [
      "/tmp/ipykernel_481105/2542155770.py:55: DeprecationWarning: The 'body' parameter is deprecated and will be removed in a future version. Instead use individual parameters.\n",
      "  resp = es.search(index=index_name, body=query)\n"
     ]
    },
    {
     "data": {
      "text/plain": [
       "[{'term': 'vitamin c', 'presentative_name': 'vitamin c'},\n",
       " {'term': 'carbohydrate', 'presentative_name': 'carbohydrate'},\n",
       " {'term': 'sugars', 'presentative_name': 'sugars'},\n",
       " {'term': 'energy', 'presentative_name': 'energy'},\n",
       " {'term': 'sodium', 'presentative_name': 'sodium'}]"
      ]
     },
     "execution_count": 248,
     "metadata": {},
     "output_type": "execute_result"
    }
   ],
   "source": [
    "search_term('energy,55 kcal,sodium,0.01 g,carbohydrate,14 g,total sugars,14 g,vitamin C,41 mg')"
   ]
  },
  {
   "cell_type": "code",
   "execution_count": 249,
   "metadata": {},
   "outputs": [],
   "source": [
    "# TODO: tokenize then search to match each token, take into account word boundary\n",
    "\n",
    "import re\n",
    "def seperate_phrase(text):\n",
    "    subst = \" quantitiytoken \"\n",
    "    # regex = r\"(?:(\\<\\=|\\>\\=|\\<|\\>) *)?((?:\\b\\d+ *(?:[\\.\\,] *\\d+)? *(?:\\-|\\~|\\÷|\\±) *)?\\b\\d+ *(?:[\\.\\,] *\\d+)?) *(\\%|µg|iu|i\\.u|kcal|kj|ug|meq|mcg|mg|kg|g|ml|fl|lít|l|µg|cfu)\"\n",
    "    \n",
    "    # capture BB-12,1x 10^9 cfu\n",
    "    # (?:(\\<\\=|\\>\\=|\\<|\\>) *)?(?:(?:\\b\\d+(?:[\\.\\,]\\d+)? ?[x|\\*] ?10\\^-?\\d+)|(?:\\b\\d+(?:[\\.\\,]\\d+)? ?(?:\\-|\\~) ?)?\\b\\d+(?:[\\.\\,]\\d+)?) ?(\\%|µg|iu|kcal|kj|ug|meq|mcg|mg|kg|g|ml|fl|lít|l|µg|cfu)\n",
    "    regex = r\"(?:(\\<\\=|\\>\\=|\\<|\\>) *)?((?:\\b\\d+(?:[\\.\\,]\\d+)? *[x|\\*|×] *10\\^-?\\d+)|(?:\\b\\d+ *(?:[\\.\\,] *\\d+)? *(?:\\-|\\~|\\÷|\\±) *)?\\b\\d+ *(?:[\\.\\,] *\\d+)?) *(\\%|µg|iu|i\\.u|kcal|kj|ug|meq|mcg|mg|kg|g|ml|fl|lít|l|µg|cfu)\"\n",
    "    result = re.sub(regex, subst, text, 0, re.MULTILINE | re.UNICODE | re.IGNORECASE)\n",
    "\n",
    "    list_quant = re.findall(regex, text, re.MULTILINE | re.UNICODE | re.IGNORECASE)\n",
    "    ret = result.split(subst)\n",
    "    # ret = [phrase.strip().strip(',').strip() for phrase in ret]\n",
    "    ret = [\" \".join(re.findall(string=phrase, pattern=r\"[\\w\\d]+\", \n",
    "                               flags=re.MULTILINE | re.UNICODE | re.IGNORECASE)) for phrase in ret]\n",
    "    ret = [i for i in ret if i != '']\n",
    "\n",
    "    return ret, list_quant"
   ]
  },
  {
   "cell_type": "code",
   "execution_count": 250,
   "metadata": {},
   "outputs": [],
   "source": [
    "test_string = \"\"\"energy,465 kcal,protein,17 g,tryptophan,220 mg,total fat,20 g,acid linoleic,3800 mg,acid alpha-linoleic,300 mg,ara,11 mg,dha,83.5 mg,carbohydrate,53 g,dietary fiber,3 g,2'-FL HMO,0.18 g,taurine,40 mg,nucleotid,20 mg,lutein,136 µg,moisture,3 g,sodium,250 mg,potassium,830 mg,cl,470 mg,calcium,780 mg,phosphorus,580 mg,magnesium,60 mg,manganese,350 µg,iron,8.5 mg,iot,110 µg,zinc,5.4 mg,Cu,0.35 mg,selen,21 µg,vitamin A,1790 iu,vitamin d3,416 iu,vitamin E,10.5 mg TE,vitamin k1,46 µg,vitamin C,90 mg,vitamin B1,0.75 mg,vitamin B2,1.4 mg,vitamin pp,7 mg,vitamin B6,1 mg,follic acid,180 µg,pantothenic acid,3.7 mg,vitamin B12,2.9 µg,biotin,22 µg,cholline,156 mg,BB-12,1 x 10^9 cfu,LGG,1 x 10^9 cfu\"\"\""
   ]
  },
  {
   "cell_type": "code",
   "execution_count": 251,
   "metadata": {},
   "outputs": [],
   "source": [
    "phrases, quant = seperate_phrase(text=test_string)"
   ]
  },
  {
   "cell_type": "code",
   "execution_count": 253,
   "metadata": {},
   "outputs": [],
   "source": [
    "# for phrase in phrases:\n",
    "#     print(phrase)\n",
    "#     print(search_term(phrase))\n",
    "#     print()"
   ]
  },
  {
   "cell_type": "code",
   "execution_count": 257,
   "metadata": {},
   "outputs": [],
   "source": [
    "def parse_nutri(text):\n",
    "    phrases, quants = seperate_phrase(text=text)\n",
    "    ret = list()\n",
    "    for phrase, quant in zip(phrases, quants):\n",
    "        ret.append({\n",
    "            'phrase': phrase,\n",
    "            'quant': quant,\n",
    "            'match': search_term(phrase)\n",
    "        })\n",
    "    return ret"
   ]
  },
  {
   "cell_type": "code",
   "execution_count": 258,
   "metadata": {},
   "outputs": [
    {
     "name": "stderr",
     "output_type": "stream",
     "text": [
      "/tmp/ipykernel_481105/2542155770.py:55: DeprecationWarning: The 'body' parameter is deprecated and will be removed in a future version. Instead use individual parameters.\n",
      "  resp = es.search(index=index_name, body=query)\n"
     ]
    },
    {
     "data": {
      "text/plain": [
       "[{'phrase': 'energy',\n",
       "  'quant': ('', '465 ', 'kcal'),\n",
       "  'match': [{'term': 'energy', 'presentative_name': 'energy'}]},\n",
       " {'phrase': 'protein',\n",
       "  'quant': ('', '17 ', 'g'),\n",
       "  'match': [{'term': 'protein', 'presentative_name': 'protein'}]},\n",
       " {'phrase': 'tryptophan',\n",
       "  'quant': ('', '220 ', 'mg'),\n",
       "  'match': [{'term': 'tryptophan', 'presentative_name': 'tryptophan'}]},\n",
       " {'phrase': 'total fat',\n",
       "  'quant': ('', '20 ', 'g'),\n",
       "  'match': [{'term': 'fat', 'presentative_name': 'fat'}]},\n",
       " {'phrase': 'acid linoleic',\n",
       "  'quant': ('', '3800 ', 'mg'),\n",
       "  'match': [{'term': 'acid linoleic', 'presentative_name': 'acid linoleic'}]},\n",
       " {'phrase': 'acid alpha linoleic',\n",
       "  'quant': ('', '300 ', 'mg'),\n",
       "  'match': [{'term': 'acid alpha linoleic',\n",
       "    'presentative_name': 'acid alpha linoleic'},\n",
       "   {'term': 'acid linoleic', 'presentative_name': 'acid linoleic'}]},\n",
       " {'phrase': 'ara',\n",
       "  'quant': ('', '11 ', 'mg'),\n",
       "  'match': [{'term': 'ara', 'presentative_name': 'ara'}]},\n",
       " {'phrase': 'dha',\n",
       "  'quant': ('', '83.5', 'mg'),\n",
       "  'match': [{'term': 'dha', 'presentative_name': 'dha'}]},\n",
       " {'phrase': 'carbohydrate',\n",
       "  'quant': ('', '53 ', 'g'),\n",
       "  'match': [{'term': 'carbohydrate', 'presentative_name': 'carbohydrate'}]},\n",
       " {'phrase': 'dietary fiber',\n",
       "  'quant': ('', '3 ', 'g'),\n",
       "  'match': [{'term': 'dietary fiber', 'presentative_name': 'dietary fiber'},\n",
       "   {'term': 'fiber', 'presentative_name': 'fiber'}]},\n",
       " {'phrase': '2 FL HMO',\n",
       "  'quant': ('', '0.18', 'g'),\n",
       "  'match': [{'term': '2 fl hmo', 'presentative_name': '2 fl hmo'}]},\n",
       " {'phrase': 'taurine',\n",
       "  'quant': ('', '40 ', 'mg'),\n",
       "  'match': [{'term': 'taurine', 'presentative_name': 'taurine'}]},\n",
       " {'phrase': 'nucleotid',\n",
       "  'quant': ('', '20 ', 'mg'),\n",
       "  'match': [{'term': 'nucleotid', 'presentative_name': 'nucleotid'}]},\n",
       " {'phrase': 'lutein',\n",
       "  'quant': ('', '136 ', 'µg'),\n",
       "  'match': [{'term': 'lutein', 'presentative_name': 'lutein'}]},\n",
       " {'phrase': 'moisture',\n",
       "  'quant': ('', '3 ', 'g'),\n",
       "  'match': [{'term': 'moisture', 'presentative_name': 'moisture'}]},\n",
       " {'phrase': 'sodium',\n",
       "  'quant': ('', '250 ', 'mg'),\n",
       "  'match': [{'term': 'sodium', 'presentative_name': 'sodium'}]},\n",
       " {'phrase': 'potassium',\n",
       "  'quant': ('', '830 ', 'mg'),\n",
       "  'match': [{'term': 'potassium', 'presentative_name': 'potassium'}]},\n",
       " {'phrase': 'cl',\n",
       "  'quant': ('', '470 ', 'mg'),\n",
       "  'match': [{'term': 'cl', 'presentative_name': 'chlorine'}]},\n",
       " {'phrase': 'calcium',\n",
       "  'quant': ('', '780 ', 'mg'),\n",
       "  'match': [{'term': 'calcium', 'presentative_name': 'calcium'}]},\n",
       " {'phrase': 'phosphorus',\n",
       "  'quant': ('', '580 ', 'mg'),\n",
       "  'match': [{'term': 'phosphorus', 'presentative_name': 'phosphorus'}]},\n",
       " {'phrase': 'magnesium',\n",
       "  'quant': ('', '60 ', 'mg'),\n",
       "  'match': [{'term': 'magnesium', 'presentative_name': 'magnesium'}]},\n",
       " {'phrase': 'manganese',\n",
       "  'quant': ('', '350 ', 'µg'),\n",
       "  'match': [{'term': 'manganese', 'presentative_name': 'manganese'}]},\n",
       " {'phrase': 'iron',\n",
       "  'quant': ('', '8.5', 'mg'),\n",
       "  'match': [{'term': 'iron', 'presentative_name': 'iron'}]},\n",
       " {'phrase': 'iot',\n",
       "  'quant': ('', '110 ', 'µg'),\n",
       "  'match': [{'term': 'iot', 'presentative_name': 'iot'}]},\n",
       " {'phrase': 'zinc',\n",
       "  'quant': ('', '5.4', 'mg'),\n",
       "  'match': [{'term': 'zinc', 'presentative_name': 'zinc'}]},\n",
       " {'phrase': 'Cu',\n",
       "  'quant': ('', '0.35', 'mg'),\n",
       "  'match': [{'term': 'cu', 'presentative_name': 'copper'}]},\n",
       " {'phrase': 'selen',\n",
       "  'quant': ('', '21 ', 'µg'),\n",
       "  'match': [{'term': 'selen', 'presentative_name': 'selen'}]},\n",
       " {'phrase': 'vitamin A',\n",
       "  'quant': ('', '1790 ', 'iu'),\n",
       "  'match': [{'term': 'vitamin a', 'presentative_name': 'beta-carotene'}]},\n",
       " {'phrase': 'vitamin d3',\n",
       "  'quant': ('', '416 ', 'iu'),\n",
       "  'match': [{'term': 'vitamin d3', 'presentative_name': 'vitamin d3'}]},\n",
       " {'phrase': 'vitamin E',\n",
       "  'quant': ('', '10.5', 'mg'),\n",
       "  'match': [{'term': 'vitamin e', 'presentative_name': 'alpha-tocopherol'}]},\n",
       " {'phrase': 'TE vitamin k1',\n",
       "  'quant': ('', '46 ', 'µg'),\n",
       "  'match': [{'term': 'vitamin k1', 'presentative_name': 'vitamin k1'}]},\n",
       " {'phrase': 'vitamin C',\n",
       "  'quant': ('', '90 ', 'mg'),\n",
       "  'match': [{'term': 'vitamin c', 'presentative_name': 'vitamin c'}]},\n",
       " {'phrase': 'vitamin B1',\n",
       "  'quant': ('', '0.75', 'mg'),\n",
       "  'match': [{'term': 'vitamin b1', 'presentative_name': 'vitamin b1'}]},\n",
       " {'phrase': 'vitamin B2',\n",
       "  'quant': ('', '1.4', 'mg'),\n",
       "  'match': [{'term': 'vitamin b2', 'presentative_name': 'riboflavin'}]},\n",
       " {'phrase': 'vitamin pp',\n",
       "  'quant': ('', '7 ', 'mg'),\n",
       "  'match': [{'term': 'vitamin pp', 'presentative_name': 'vitamin pp'}]},\n",
       " {'phrase': 'vitamin B6',\n",
       "  'quant': ('', '1 ', 'mg'),\n",
       "  'match': [{'term': 'vitamin b6', 'presentative_name': 'pyridoxamine'}]},\n",
       " {'phrase': 'follic acid',\n",
       "  'quant': ('', '180 ', 'µg'),\n",
       "  'match': [{'term': 'follic acid', 'presentative_name': 'follic acid'}]},\n",
       " {'phrase': 'pantothenic acid',\n",
       "  'quant': ('', '3.7', 'mg'),\n",
       "  'match': [{'term': 'pantothenic acid',\n",
       "    'presentative_name': 'pantothenic acid'},\n",
       "   {'term': 'acid pantothenic', 'presentative_name': 'acid pantothenic'}]},\n",
       " {'phrase': 'vitamin B12',\n",
       "  'quant': ('', '2.9', 'µg'),\n",
       "  'match': [{'term': 'vitamin b12', 'presentative_name': 'vitamin b12'}]},\n",
       " {'phrase': 'biotin',\n",
       "  'quant': ('', '22 ', 'µg'),\n",
       "  'match': [{'term': 'biotin', 'presentative_name': 'vitamin b7'}]},\n",
       " {'phrase': 'cholline',\n",
       "  'quant': ('', '156 ', 'mg'),\n",
       "  'match': [{'term': 'cholline', 'presentative_name': 'cholline'}]},\n",
       " {'phrase': 'BB',\n",
       "  'quant': ('', '12,1 x 10^9', 'cfu'),\n",
       "  'match': [{'term': 'bb', 'presentative_name': 'bb'}]},\n",
       " {'phrase': 'LGG', 'quant': ('', '1 x 10^9', 'cfu'), 'match': []}]"
      ]
     },
     "execution_count": 258,
     "metadata": {},
     "output_type": "execute_result"
    }
   ],
   "source": [
    "parse_nutri(test_string)"
   ]
  },
  {
   "cell_type": "code",
   "execution_count": 295,
   "metadata": {},
   "outputs": [],
   "source": [
    "def pretty_print_nutri(parsed_nutri_list):\n",
    "    ret = list()\n",
    "    for nutri in parsed_nutri_list:\n",
    "        # print(nutri['match'][0]['presentative_name'])\n",
    "        if len(nutri['match']) == 0:\n",
    "            presentative = nutri['phrase'] + \"(UNKNOWN)\"\n",
    "        else:\n",
    "            presentative = nutri['match'][0]['term']\n",
    "        s = presentative + ': ' + \" \".join([i.strip() for i in nutri['quant']]).strip()\n",
    "        ret.append(s.strip())\n",
    "    return \"; \".join(ret)"
   ]
  },
  {
   "cell_type": "code",
   "execution_count": 296,
   "metadata": {},
   "outputs": [
    {
     "name": "stderr",
     "output_type": "stream",
     "text": [
      "/tmp/ipykernel_481105/2542155770.py:55: DeprecationWarning: The 'body' parameter is deprecated and will be removed in a future version. Instead use individual parameters.\n",
      "  resp = es.search(index=index_name, body=query)\n"
     ]
    },
    {
     "data": {
      "text/plain": [
       "'energy: 465 kcal; protein: 17 g; tryptophan: 220 mg; fat: 20 g; acid linoleic: 3800 mg; acid alpha linoleic: 300 mg; ara: 11 mg; dha: 83.5 mg; carbohydrate: 53 g; dietary fiber: 3 g; 2 fl hmo: 0.18 g; taurine: 40 mg; nucleotid: 20 mg; lutein: 136 µg; moisture: 3 g; sodium: 250 mg; potassium: 830 mg; cl: 470 mg; calcium: 780 mg; phosphorus: 580 mg; magnesium: 60 mg; manganese: 350 µg; iron: 8.5 mg; iot: 110 µg; zinc: 5.4 mg; cu: 0.35 mg; selen: 21 µg; vitamin a: 1790 iu; vitamin d3: 416 iu; vitamin e: 10.5 mg; vitamin k1: 46 µg; vitamin c: 90 mg; vitamin b1: 0.75 mg; vitamin b2: 1.4 mg; vitamin pp: 7 mg; vitamin b6: 1 mg; follic acid: 180 µg; pantothenic acid: 3.7 mg; vitamin b12: 2.9 µg; biotin: 22 µg; cholline: 156 mg; bb: 12,1 x 10^9 cfu; LGG(UNKNOWN): 1 x 10^9 cfu'"
      ]
     },
     "execution_count": 296,
     "metadata": {},
     "output_type": "execute_result"
    }
   ],
   "source": [
    "pretty_print_nutri(parse_nutri(test_string))"
   ]
  },
  {
   "cell_type": "code",
   "execution_count": 297,
   "metadata": {},
   "outputs": [],
   "source": [
    "raw_df = pd.read_csv('data/Bitewise DB - Master product list _ Ingredients & Nutrition facts - Master list.csv')"
   ]
  },
  {
   "cell_type": "code",
   "execution_count": 298,
   "metadata": {},
   "outputs": [],
   "source": [
    "def pd_parse_nutri(x):\n",
    "    # check nan or empty\n",
    "    if pd.isna(x) or x == '':\n",
    "        return ''\n",
    "    return pretty_print_nutri(parse_nutri(x))"
   ]
  },
  {
   "cell_type": "code",
   "execution_count": 299,
   "metadata": {},
   "outputs": [
    {
     "name": "stderr",
     "output_type": "stream",
     "text": [
      "/tmp/ipykernel_481105/2542155770.py:55: DeprecationWarning: The 'body' parameter is deprecated and will be removed in a future version. Instead use individual parameters.\n",
      "  resp = es.search(index=index_name, body=query)\n"
     ]
    }
   ],
   "source": [
    "raw_df['parsed_nutri'] = raw_df['Nutrition facts'].apply(pd_parse_nutri)"
   ]
  },
  {
   "cell_type": "code",
   "execution_count": 301,
   "metadata": {},
   "outputs": [],
   "source": [
    "raw_df.to_csv('data/parsed_nutri.csv', index=False)"
   ]
  },
  {
   "cell_type": "code",
   "execution_count": null,
   "metadata": {},
   "outputs": [],
   "source": []
  },
  {
   "cell_type": "code",
   "execution_count": null,
   "metadata": {},
   "outputs": [],
   "source": []
  }
 ],
 "metadata": {
  "kernelspec": {
   "display_name": "data_mining",
   "language": "python",
   "name": "python3"
  },
  "language_info": {
   "codemirror_mode": {
    "name": "ipython",
    "version": 3
   },
   "file_extension": ".py",
   "mimetype": "text/x-python",
   "name": "python",
   "nbconvert_exporter": "python",
   "pygments_lexer": "ipython3",
   "version": "3.8.15"
  },
  "orig_nbformat": 4
 },
 "nbformat": 4,
 "nbformat_minor": 2
}
