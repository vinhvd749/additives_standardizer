{
 "cells": [
  {
   "cell_type": "code",
   "execution_count": 1,
   "metadata": {},
   "outputs": [],
   "source": [
    "import pandas as pd"
   ]
  },
  {
   "cell_type": "code",
   "execution_count": 2,
   "metadata": {},
   "outputs": [],
   "source": [
    "df = pd.read_csv('tmp/ingre_match_pair.csv')"
   ]
  },
  {
   "cell_type": "code",
   "execution_count": 3,
   "metadata": {},
   "outputs": [
    {
     "data": {
      "text/html": [
       "<div>\n",
       "<style scoped>\n",
       "    .dataframe tbody tr th:only-of-type {\n",
       "        vertical-align: middle;\n",
       "    }\n",
       "\n",
       "    .dataframe tbody tr th {\n",
       "        vertical-align: top;\n",
       "    }\n",
       "\n",
       "    .dataframe thead th {\n",
       "        text-align: right;\n",
       "    }\n",
       "</style>\n",
       "<table border=\"1\" class=\"dataframe\">\n",
       "  <thead>\n",
       "    <tr style=\"text-align: right;\">\n",
       "      <th></th>\n",
       "      <th>query</th>\n",
       "      <th>match</th>\n",
       "      <th>score</th>\n",
       "    </tr>\n",
       "  </thead>\n",
       "  <tbody>\n",
       "    <tr>\n",
       "      <th>0</th>\n",
       "      <td>đường</td>\n",
       "      <td>đường mía</td>\n",
       "      <td>5.389518</td>\n",
       "    </tr>\n",
       "    <tr>\n",
       "      <th>1</th>\n",
       "      <td>đường</td>\n",
       "      <td>đường hfcs</td>\n",
       "      <td>5.389518</td>\n",
       "    </tr>\n",
       "    <tr>\n",
       "      <th>2</th>\n",
       "      <td>đường</td>\n",
       "      <td>đường glucose</td>\n",
       "      <td>5.389518</td>\n",
       "    </tr>\n",
       "    <tr>\n",
       "      <th>3</th>\n",
       "      <td>đường</td>\n",
       "      <td>đường kính</td>\n",
       "      <td>5.389518</td>\n",
       "    </tr>\n",
       "    <tr>\n",
       "      <th>4</th>\n",
       "      <td>đường</td>\n",
       "      <td>đường lactose</td>\n",
       "      <td>5.389518</td>\n",
       "    </tr>\n",
       "    <tr>\n",
       "      <th>...</th>\n",
       "      <td>...</td>\n",
       "      <td>...</td>\n",
       "      <td>...</td>\n",
       "    </tr>\n",
       "    <tr>\n",
       "      <th>49169</th>\n",
       "      <td>hạt dẻ nghiền</td>\n",
       "      <td>hương hạt dẻ tổng hợp</td>\n",
       "      <td>13.155146</td>\n",
       "    </tr>\n",
       "    <tr>\n",
       "      <th>49170</th>\n",
       "      <td>hạt dẻ nghiền</td>\n",
       "      <td>có thể chứa hạt dẻ</td>\n",
       "      <td>13.155146</td>\n",
       "    </tr>\n",
       "    <tr>\n",
       "      <th>49171</th>\n",
       "      <td>hạt dẻ nghiền</td>\n",
       "      <td>táo nghiền</td>\n",
       "      <td>9.075975</td>\n",
       "    </tr>\n",
       "    <tr>\n",
       "      <th>49172</th>\n",
       "      <td>hạt dẻ nghiền</td>\n",
       "      <td>chuối nghiền</td>\n",
       "      <td>9.075975</td>\n",
       "    </tr>\n",
       "    <tr>\n",
       "      <th>49173</th>\n",
       "      <td>hạt dẻ nghiền</td>\n",
       "      <td>cà chua nghiền</td>\n",
       "      <td>8.394096</td>\n",
       "    </tr>\n",
       "  </tbody>\n",
       "</table>\n",
       "<p>49174 rows × 3 columns</p>\n",
       "</div>"
      ],
      "text/plain": [
       "               query                  match      score\n",
       "0              đường              đường mía   5.389518\n",
       "1              đường             đường hfcs   5.389518\n",
       "2              đường          đường glucose   5.389518\n",
       "3              đường             đường kính   5.389518\n",
       "4              đường          đường lactose   5.389518\n",
       "...              ...                    ...        ...\n",
       "49169  hạt dẻ nghiền  hương hạt dẻ tổng hợp  13.155146\n",
       "49170  hạt dẻ nghiền     có thể chứa hạt dẻ  13.155146\n",
       "49171  hạt dẻ nghiền             táo nghiền   9.075975\n",
       "49172  hạt dẻ nghiền           chuối nghiền   9.075975\n",
       "49173  hạt dẻ nghiền         cà chua nghiền   8.394096\n",
       "\n",
       "[49174 rows x 3 columns]"
      ]
     },
     "execution_count": 3,
     "metadata": {},
     "output_type": "execute_result"
    }
   ],
   "source": [
    "df"
   ]
  },
  {
   "cell_type": "code",
   "execution_count": 4,
   "metadata": {},
   "outputs": [],
   "source": [
    "# set intersection percentage score\n",
    "import re\n",
    "def set_intersection_score(text1, text2):\n",
    "    set1 = set(re.findall(r'[\\w\\d]+', text1))\n",
    "    set2 = set(re.findall(r'[\\w\\d]+', text2))\n",
    "    return len(set1.intersection(set2)) / len(set1)"
   ]
  },
  {
   "cell_type": "code",
   "execution_count": 5,
   "metadata": {},
   "outputs": [],
   "source": [
    "df['jacc_score'] = df.apply(lambda x: set_intersection_score(x['query'], x['match']), axis=1)"
   ]
  },
  {
   "cell_type": "code",
   "execution_count": 8,
   "metadata": {},
   "outputs": [],
   "source": [
    "df[df['jacc_score'] >= 0.75].to_csv('tmp/match_pair_jacc.csv', index=False)"
   ]
  },
  {
   "cell_type": "code",
   "execution_count": 7,
   "metadata": {},
   "outputs": [
    {
     "data": {
      "text/html": [
       "<div>\n",
       "<style scoped>\n",
       "    .dataframe tbody tr th:only-of-type {\n",
       "        vertical-align: middle;\n",
       "    }\n",
       "\n",
       "    .dataframe tbody tr th {\n",
       "        vertical-align: top;\n",
       "    }\n",
       "\n",
       "    .dataframe thead th {\n",
       "        text-align: right;\n",
       "    }\n",
       "</style>\n",
       "<table border=\"1\" class=\"dataframe\">\n",
       "  <thead>\n",
       "    <tr style=\"text-align: right;\">\n",
       "      <th></th>\n",
       "      <th>query</th>\n",
       "      <th>match</th>\n",
       "      <th>score</th>\n",
       "      <th>jacc_score</th>\n",
       "    </tr>\n",
       "  </thead>\n",
       "  <tbody>\n",
       "    <tr>\n",
       "      <th>0</th>\n",
       "      <td>đường</td>\n",
       "      <td>đường mía</td>\n",
       "      <td>5.389518</td>\n",
       "      <td>1.000000</td>\n",
       "    </tr>\n",
       "    <tr>\n",
       "      <th>1</th>\n",
       "      <td>đường</td>\n",
       "      <td>đường hfcs</td>\n",
       "      <td>5.389518</td>\n",
       "      <td>1.000000</td>\n",
       "    </tr>\n",
       "    <tr>\n",
       "      <th>2</th>\n",
       "      <td>đường</td>\n",
       "      <td>đường glucose</td>\n",
       "      <td>5.389518</td>\n",
       "      <td>1.000000</td>\n",
       "    </tr>\n",
       "    <tr>\n",
       "      <th>3</th>\n",
       "      <td>đường</td>\n",
       "      <td>đường kính</td>\n",
       "      <td>5.389518</td>\n",
       "      <td>1.000000</td>\n",
       "    </tr>\n",
       "    <tr>\n",
       "      <th>4</th>\n",
       "      <td>đường</td>\n",
       "      <td>đường lactose</td>\n",
       "      <td>5.389518</td>\n",
       "      <td>1.000000</td>\n",
       "    </tr>\n",
       "    <tr>\n",
       "      <th>...</th>\n",
       "      <td>...</td>\n",
       "      <td>...</td>\n",
       "      <td>...</td>\n",
       "      <td>...</td>\n",
       "    </tr>\n",
       "    <tr>\n",
       "      <th>49166</th>\n",
       "      <td>hạt dẻ nghiền</td>\n",
       "      <td>hạt dẻ cười</td>\n",
       "      <td>14.824724</td>\n",
       "      <td>0.666667</td>\n",
       "    </tr>\n",
       "    <tr>\n",
       "      <th>49167</th>\n",
       "      <td>hạt dẻ nghiền</td>\n",
       "      <td>sữa hạt dẻ</td>\n",
       "      <td>14.824724</td>\n",
       "      <td>0.666667</td>\n",
       "    </tr>\n",
       "    <tr>\n",
       "      <th>49168</th>\n",
       "      <td>hạt dẻ nghiền</td>\n",
       "      <td>hạt dẻ dạng paste</td>\n",
       "      <td>13.938021</td>\n",
       "      <td>0.666667</td>\n",
       "    </tr>\n",
       "    <tr>\n",
       "      <th>49169</th>\n",
       "      <td>hạt dẻ nghiền</td>\n",
       "      <td>hương hạt dẻ tổng hợp</td>\n",
       "      <td>13.155146</td>\n",
       "      <td>0.666667</td>\n",
       "    </tr>\n",
       "    <tr>\n",
       "      <th>49170</th>\n",
       "      <td>hạt dẻ nghiền</td>\n",
       "      <td>có thể chứa hạt dẻ</td>\n",
       "      <td>13.155146</td>\n",
       "      <td>0.666667</td>\n",
       "    </tr>\n",
       "  </tbody>\n",
       "</table>\n",
       "<p>41674 rows × 4 columns</p>\n",
       "</div>"
      ],
      "text/plain": [
       "               query                  match      score  jacc_score\n",
       "0              đường              đường mía   5.389518    1.000000\n",
       "1              đường             đường hfcs   5.389518    1.000000\n",
       "2              đường          đường glucose   5.389518    1.000000\n",
       "3              đường             đường kính   5.389518    1.000000\n",
       "4              đường          đường lactose   5.389518    1.000000\n",
       "...              ...                    ...        ...         ...\n",
       "49166  hạt dẻ nghiền            hạt dẻ cười  14.824724    0.666667\n",
       "49167  hạt dẻ nghiền             sữa hạt dẻ  14.824724    0.666667\n",
       "49168  hạt dẻ nghiền      hạt dẻ dạng paste  13.938021    0.666667\n",
       "49169  hạt dẻ nghiền  hương hạt dẻ tổng hợp  13.155146    0.666667\n",
       "49170  hạt dẻ nghiền     có thể chứa hạt dẻ  13.155146    0.666667\n",
       "\n",
       "[41674 rows x 4 columns]"
      ]
     },
     "execution_count": 7,
     "metadata": {},
     "output_type": "execute_result"
    }
   ],
   "source": [
    "df[df['jacc_score'] >= 0.5]"
   ]
  },
  {
   "cell_type": "code",
   "execution_count": 47,
   "metadata": {},
   "outputs": [],
   "source": [
    "import pandas as pd"
   ]
  },
  {
   "cell_type": "code",
   "execution_count": 48,
   "metadata": {},
   "outputs": [],
   "source": [
    "# nutri_df = pd.read_csv('data/nutri_list_raw.csv')\n",
    "nutri_df = pd.read_csv('data/nutri_list_raw_edited.csv')"
   ]
  },
  {
   "cell_type": "code",
   "execution_count": 49,
   "metadata": {},
   "outputs": [],
   "source": [
    "all_nutri = list(set(nutri_df['nutri_name'].tolist()))"
   ]
  },
  {
   "cell_type": "code",
   "execution_count": 50,
   "metadata": {},
   "outputs": [],
   "source": [
    "def preprocess_nutri_name(nutri_name):\n",
    "    nutri_name = nutri_name.lower()\n",
    "    nutri_name = nutri_name.replace('of which', ' ')\n",
    "    nutri_name = nutri_name.replace('total', ' ')\n",
    "    nutri_name = nutri_name.strip()\n",
    "    return nutri_name"
   ]
  },
  {
   "cell_type": "code",
   "execution_count": 51,
   "metadata": {},
   "outputs": [],
   "source": [
    "all_nutri = [preprocess_nutri_name(i) for i in all_nutri]\n",
    "all_nutri = list(set(all_nutri))"
   ]
  },
  {
   "cell_type": "code",
   "execution_count": 52,
   "metadata": {},
   "outputs": [
    {
     "name": "stdout",
     "output_type": "stream",
     "text": [
      "{'name': 'VINHVAN-ITC-AI', 'cluster_name': 'elasticsearch', 'cluster_uuid': 'nGpADS-xR_2jfOXdEXGYXw', 'version': {'number': '8.4.2', 'build_flavor': 'default', 'build_type': 'tar', 'build_hash': '89f8c6d8429db93b816403ee75e5c270b43a940a', 'build_date': '2022-09-14T16:26:04.382547801Z', 'build_snapshot': False, 'lucene_version': '9.3.0', 'minimum_wire_compatibility_version': '7.17.0', 'minimum_index_compatibility_version': '7.0.0'}, 'tagline': 'You Know, for Search'}\n",
      "DATA SIZE:  191\n",
      "{'count': 191, '_shards': {'total': 1, 'successful': 1, 'skipped': 0, 'failed': 0}}\n"
     ]
    }
   ],
   "source": [
    "from self_match_util import SelfMatchUtil\n",
    "\n",
    "smu = SelfMatchUtil('self_match_nutri_12', all_nutri)"
   ]
  },
  {
   "cell_type": "code",
   "execution_count": 53,
   "metadata": {},
   "outputs": [],
   "source": [
    "match_df = smu.run_pipeline()"
   ]
  },
  {
   "cell_type": "code",
   "execution_count": 54,
   "metadata": {},
   "outputs": [],
   "source": [
    "match_df = match_df[match_df['jacc_score'] >= 0.7]"
   ]
  },
  {
   "cell_type": "code",
   "execution_count": 55,
   "metadata": {},
   "outputs": [],
   "source": [
    "# match_df.to_csv(\"tmp/standard_nutri_match.csv\", index=False)\n",
    "match_df.to_csv(\"tmp/standard_nutri_match_editing.csv\", index=False)\n",
    "\n",
    "# detect similar nutri name"
   ]
  },
  {
   "cell_type": "code",
   "execution_count": 56,
   "metadata": {},
   "outputs": [
    {
     "data": {
      "text/plain": [
       "'manganese ( mn )'"
      ]
     },
     "execution_count": 56,
     "metadata": {},
     "output_type": "execute_result"
    }
   ],
   "source": [
    "all_nutri[0]"
   ]
  },
  {
   "cell_type": "code",
   "execution_count": 57,
   "metadata": {},
   "outputs": [],
   "source": [
    "# smu.search_term('vitamin a')['hits']['hits']"
   ]
  },
  {
   "cell_type": "code",
   "execution_count": 43,
   "metadata": {},
   "outputs": [],
   "source": [
    "remove_list = \"\"\"\n",
    "vitamin b6\n",
    "vitamin b5\n",
    "vitamin e\n",
    "vitamin d\n",
    "pantothenic acid\n",
    "pantothenic acid\n",
    "vitamin b2\n",
    "vitamin b3\n",
    "acid pantothenic\n",
    "acid pantothenic\n",
    "vitamin b1\n",
    "vitamin a\n",
    "acid folic\n",
    "energy from fat\n",
    "\"\"\".split('\\n')"
   ]
  },
  {
   "cell_type": "code",
   "execution_count": 44,
   "metadata": {},
   "outputs": [],
   "source": [
    "all_nutri = [i for i in all_nutri if i not in remove_list]"
   ]
  },
  {
   "cell_type": "code",
   "execution_count": 45,
   "metadata": {},
   "outputs": [
    {
     "data": {
      "text/plain": [
       "['manganese ( mn )',\n",
       " 'folate (folic acid; vitamin b9)',\n",
       " 'iodine ( i )',\n",
       " 'acid amin',\n",
       " 'added sugar',\n",
       " 'protid',\n",
       " 'copper ( cu )',\n",
       " 'pantothenic acid (vitamin b5)',\n",
       " 'potassium ( k )',\n",
       " 'vitamin c',\n",
       " 'molybdenum ( mo )',\n",
       " 'fluorid',\n",
       " 'mct',\n",
       " 'biotin (vitamin b7)',\n",
       " 'vitamin k1',\n",
       " 'tryptophan',\n",
       " 'gos',\n",
       " 'salt',\n",
       " 'cholline',\n",
       " 'carnitin',\n",
       " 'nh3',\n",
       " 'ntp',\n",
       " 'chloride',\n",
       " 'choline',\n",
       " 'litpit',\n",
       " 'selenium ( se )',\n",
       " 'thiamin (vitamin b1)',\n",
       " 'dha',\n",
       " 'energy',\n",
       " 'chromium ( cr )',\n",
       " 'vitamin a (preformed = retinol; beta-carotene can be converted to vitamin a)',\n",
       " 'cholesterol',\n",
       " 'calcium ( ca )',\n",
       " 'moisture',\n",
       " 'vitamin b6 (pyridoxal, pyridoxine, pyridoxamine)',\n",
       " 'tds',\n",
       " 'unsaturated fat',\n",
       " 'acid linoleic',\n",
       " 'proteins',\n",
       " 'trans fat',\n",
       " 'carbohydrates',\n",
       " 'riboflavin (vitamin b2)',\n",
       " 'fibre',\n",
       " 'fluoride',\n",
       " 'vitamin k2',\n",
       " 'vitamin e (alpha-tocopherol)',\n",
       " 'zinc ( zn )',\n",
       " 'monounsaturated fat',\n",
       " 'carbohydrate',\n",
       " 'vitamin d3',\n",
       " 'vitamin pp',\n",
       " 'lysin',\n",
       " 'dietary fiber',\n",
       " 'soluble dietary fiber',\n",
       " 'vitamin d (calciferol)',\n",
       " 'iron ( fe )',\n",
       " 'inositol',\n",
       " 'lutein',\n",
       " 'biotin',\n",
       " 'taurin',\n",
       " 'niacin',\n",
       " 'niacin (vitamin b3; nicotinic acid)',\n",
       " 'vitamin b9',\n",
       " 'polyunsaturated fat',\n",
       " 'vitamin k (phylloquinone, menadione)',\n",
       " 'nickel ( ni )',\n",
       " 'beta caroten',\n",
       " 'fiber',\n",
       " 'follic acid',\n",
       " 'selen',\n",
       " 'taurine',\n",
       " 'vitamin b12',\n",
       " 'sugars',\n",
       " 'magnesium ( mg )',\n",
       " 'tea polyphenol',\n",
       " 'nucleotid',\n",
       " 'protein',\n",
       " 'phosphorus',\n",
       " 'sodium ( na )',\n",
       " 'saturates',\n",
       " 'saturated fat',\n",
       " 'chlorine ( cl )',\n",
       " 'lipid',\n",
       " 'iot',\n",
       " 'fat']"
      ]
     },
     "execution_count": 45,
     "metadata": {},
     "output_type": "execute_result"
    }
   ],
   "source": [
    "all_nutri"
   ]
  },
  {
   "cell_type": "code",
   "execution_count": 46,
   "metadata": {},
   "outputs": [],
   "source": [
    "# write to file csv pandas\n",
    "\n",
    "nutri_df = pd.DataFrame(all_nutri, columns=['nutri_name'])\n",
    "nutri_df.to_csv('tmp/nutri_list.csv', index=False)\n"
   ]
  },
  {
   "cell_type": "code",
   "execution_count": null,
   "metadata": {},
   "outputs": [],
   "source": []
  }
 ],
 "metadata": {
  "kernelspec": {
   "display_name": "data_mining",
   "language": "python",
   "name": "python3"
  },
  "language_info": {
   "codemirror_mode": {
    "name": "ipython",
    "version": 3
   },
   "file_extension": ".py",
   "mimetype": "text/x-python",
   "name": "python",
   "nbconvert_exporter": "python",
   "pygments_lexer": "ipython3",
   "version": "3.8.15"
  },
  "orig_nbformat": 4
 },
 "nbformat": 4,
 "nbformat_minor": 2
}
